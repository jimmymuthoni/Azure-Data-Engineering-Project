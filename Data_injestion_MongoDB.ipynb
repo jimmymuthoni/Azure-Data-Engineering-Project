{
  "nbformat": 4,
  "nbformat_minor": 0,
  "metadata": {
    "colab": {
      "provenance": []
    },
    "kernelspec": {
      "name": "python3",
      "display_name": "Python 3"
    },
    "language_info": {
      "name": "python"
    }
  },
  "cells": [
    {
      "cell_type": "code",
      "source": [
        "!pip install pymongo"
      ],
      "metadata": {
        "colab": {
          "base_uri": "https://localhost:8080/"
        },
        "id": "vZmNOC9CBYgg",
        "outputId": "6460d784-04db-412b-991f-68d9b791445a"
      },
      "execution_count": 3,
      "outputs": [
        {
          "output_type": "stream",
          "name": "stdout",
          "text": [
            "Collecting pymongo\n",
            "  Downloading pymongo-4.13.0-cp311-cp311-manylinux_2_17_x86_64.manylinux2014_x86_64.whl.metadata (22 kB)\n",
            "Collecting dnspython<3.0.0,>=1.16.0 (from pymongo)\n",
            "  Downloading dnspython-2.7.0-py3-none-any.whl.metadata (5.8 kB)\n",
            "Downloading pymongo-4.13.0-cp311-cp311-manylinux_2_17_x86_64.manylinux2014_x86_64.whl (1.4 MB)\n",
            "\u001b[2K   \u001b[90m━━━━━━━━━━━━━━━━━━━━━━━━━━━━━━━━━━━━━━━━\u001b[0m \u001b[32m1.4/1.4 MB\u001b[0m \u001b[31m27.4 MB/s\u001b[0m eta \u001b[36m0:00:00\u001b[0m\n",
            "\u001b[?25hDownloading dnspython-2.7.0-py3-none-any.whl (313 kB)\n",
            "\u001b[2K   \u001b[90m━━━━━━━━━━━━━━━━━━━━━━━━━━━━━━━━━━━━━━━━\u001b[0m \u001b[32m313.6/313.6 kB\u001b[0m \u001b[31m28.7 MB/s\u001b[0m eta \u001b[36m0:00:00\u001b[0m\n",
            "\u001b[?25hInstalling collected packages: dnspython, pymongo\n",
            "Successfully installed dnspython-2.7.0 pymongo-4.13.0\n"
          ]
        }
      ]
    },
    {
      "cell_type": "code",
      "source": [
        "# importing module\n",
        "from pymongo import MongoClient\n",
        "\n",
        "hostname = \"roh7y.h.filess.io\"\n",
        "database = \"olistDataNoSQL_necktailso\"\n",
        "port = \"27018\"\n",
        "username = \"olistDataNoSQL_necktailso\"\n",
        "password = \"b4a0b438864e75fb981a535a54d8294c9d57dc7d\"\n",
        "\n",
        "uri = \"mongodb://\" + username + \":\" + password + \"@\" + hostname + \":\" + port + \"/\" + database\n",
        "\n",
        "# Connect with the portnumber and host\n",
        "client = MongoClient(uri)\n",
        "\n",
        "# Access database\n",
        "mydatabase = client[database]\n"
      ],
      "metadata": {
        "id": "xLWtWQR2CQnQ"
      },
      "execution_count": 4,
      "outputs": []
    },
    {
      "cell_type": "code",
      "source": [
        "import pandas as pd\n",
        "from pymongo import MongoClient\n",
        "\n",
        "# Loading the product_category CSV file into a pandas DataFrame\n",
        "try:\n",
        "  product_category_df = pd.read_csv(\"product_category_name_translation.csv\")\n",
        "except FileNotFoundError:\n",
        "  print(\"Error: 'product_category_name_translation.csv' not found.\")\n",
        "\n",
        "# MongoDB connection details\n",
        "hostname = \"roh7y.h.filess.io\"\n",
        "database = \"olistDataNoSQL_necktailso\"\n",
        "port = \"27018\"\n",
        "username = \"olistDataNoSQL_necktailso\"\n",
        "password = \"b4a0b438864e75fb981a535a54d8294c9d57dc7d\"\n",
        "\n",
        "uri = \"mongodb://\" + username + \":\" + password + \"@\" + hostname + \":\" + port + \"/\" + database\n",
        "\n",
        "try:\n",
        "\n",
        "    client = MongoClient(uri)\n",
        "    db = client[database]\n",
        "    collection = db[\"product_categories\"]\n",
        "    data_to_insert = product_category_df.to_dict(orient=\"records\")\n",
        "    collection.insert_many(data_to_insert)\n",
        "    print(\"Data uploaded to MongoDB successfully!\")\n",
        "\n",
        "except Exception as e:\n",
        "    print(f\"An error occurred: {e}\")\n",
        "\n",
        "finally:\n",
        "    if client:\n",
        "      client.close()\n"
      ],
      "metadata": {
        "colab": {
          "base_uri": "https://localhost:8080/"
        },
        "id": "Zqcsp1HxCQkF",
        "outputId": "511a38dd-5fa5-4e3a-ae4a-acb4a845eaca"
      },
      "execution_count": 5,
      "outputs": [
        {
          "output_type": "stream",
          "name": "stdout",
          "text": [
            "Data uploaded to MongoDB successfully!\n"
          ]
        }
      ]
    },
    {
      "cell_type": "code",
      "source": [],
      "metadata": {
        "id": "MN5ukBzOE33c"
      },
      "execution_count": null,
      "outputs": []
    }
  ]
}